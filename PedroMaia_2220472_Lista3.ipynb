{
  "nbformat": 4,
  "nbformat_minor": 0,
  "metadata": {
    "colab": {
      "provenance": [],
      "collapsed_sections": [],
      "toc_visible": true
    },
    "kernelspec": {
      "name": "python3",
      "display_name": "Python 3"
    },
    "language_info": {
      "name": "python"
    }
  },
  "cells": [
    {
      "cell_type": "markdown",
      "source": [
        "Importando a biblioteca Pandas"
      ],
      "metadata": {
        "id": "iFOxD20mpirl"
      }
    },
    {
      "cell_type": "code",
      "execution_count": 148,
      "metadata": {
        "id": "mg1_ze6OjBwj"
      },
      "outputs": [],
      "source": [
        "import pandas as pd"
      ]
    },
    {
      "cell_type": "markdown",
      "source": [
        "Importando o DataFrame"
      ],
      "metadata": {
        "id": "YO5EAKSipbYK"
      }
    },
    {
      "cell_type": "code",
      "source": [
        "df = pd.read_csv('/content/drive/MyDrive/Trabalho 3 ENG1111/class_analise_credito.csv')"
      ],
      "metadata": {
        "id": "wv-ieAjrnd6B"
      },
      "execution_count": 149,
      "outputs": []
    },
    {
      "cell_type": "markdown",
      "source": [
        "2) Verificando as informações do DataFrame"
      ],
      "metadata": {
        "id": "lA9fS_Mcq5cn"
      }
    },
    {
      "cell_type": "code",
      "source": [
        "print(df.info())"
      ],
      "metadata": {
        "id": "awMZCYnGpnfl",
        "colab": {
          "base_uri": "https://localhost:8080/"
        },
        "outputId": "991691a2-b80c-486e-d737-f7d9e40c764f"
      },
      "execution_count": 150,
      "outputs": [
        {
          "output_type": "stream",
          "name": "stdout",
          "text": [
            "<class 'pandas.core.frame.DataFrame'>\n",
            "RangeIndex: 1500 entries, 0 to 1499\n",
            "Data columns (total 12 columns):\n",
            " #   Column   Non-Null Count  Dtype\n",
            "---  ------   --------------  -----\n",
            " 0   ESTC     1500 non-null   int64\n",
            " 1   NDEP     1500 non-null   int64\n",
            " 2   RENDA    1500 non-null   int64\n",
            " 3   TIPOR    1500 non-null   int64\n",
            " 4   VBEM     1500 non-null   int64\n",
            " 5   NPARC    1500 non-null   int64\n",
            " 6   VPARC    1500 non-null   int64\n",
            " 7   TEL      1500 non-null   int64\n",
            " 8   IDADE    1500 non-null   int64\n",
            " 9   RESMS    1500 non-null   int64\n",
            " 10  ENTRADA  1500 non-null   int64\n",
            " 11  target   1500 non-null   int64\n",
            "dtypes: int64(12)\n",
            "memory usage: 140.8 KB\n",
            "None\n"
          ]
        }
      ]
    },
    {
      "cell_type": "markdown",
      "source": [
        "3) Usei esse comando para verificar se existem valores Nulos e não existem (procurei em todas as colunas)\n"
      ],
      "metadata": {
        "id": "DZc6HIe7s_zH"
      }
    },
    {
      "cell_type": "code",
      "source": [
        "df['RENDA'].notnull()\n",
        "#caso existisse algum valor nulo eu usaria df['RENDA'].dropna(axis=1) display(df)"
      ],
      "metadata": {
        "id": "koWKYNLMq93h",
        "colab": {
          "base_uri": "https://localhost:8080/"
        },
        "outputId": "8edf96b0-72bc-400d-d352-c4a49bcdcf39"
      },
      "execution_count": 151,
      "outputs": [
        {
          "output_type": "execute_result",
          "data": {
            "text/plain": [
              "0       True\n",
              "1       True\n",
              "2       True\n",
              "3       True\n",
              "4       True\n",
              "        ... \n",
              "1495    True\n",
              "1496    True\n",
              "1497    True\n",
              "1498    True\n",
              "1499    True\n",
              "Name: RENDA, Length: 1500, dtype: bool"
            ]
          },
          "metadata": {},
          "execution_count": 151
        }
      ]
    },
    {
      "cell_type": "markdown",
      "source": [
        "4) Comando para descobrir a media desta Serie (coluna)"
      ],
      "metadata": {
        "id": "VBdIZcIiuF7-"
      }
    },
    {
      "cell_type": "code",
      "source": [
        "media = df['RENDA'].mean()\n",
        "print(media)"
      ],
      "metadata": {
        "id": "dhg1iFFMtrzu",
        "colab": {
          "base_uri": "https://localhost:8080/"
        },
        "outputId": "7b4734d6-3a98-4ffc-9762-0622f0b4d4e9"
      },
      "execution_count": 152,
      "outputs": [
        {
          "output_type": "stream",
          "name": "stdout",
          "text": [
            "984.512\n"
          ]
        }
      ]
    },
    {
      "cell_type": "markdown",
      "source": [
        "5) O criterio escolhido por mim foi excluir as linhas com valores menores que 900, ja que a média é 984.512"
      ],
      "metadata": {
        "id": "_C9lKCJgam0p"
      }
    },
    {
      "cell_type": "code",
      "source": [
        "coluna_renda = df['RENDA']\n",
        "\n",
        "coluna_Nova = df[df['RENDA']>900]\n",
        "coluna_Nova"
      ],
      "metadata": {
        "id": "fTBhBY7ALmxS",
        "colab": {
          "base_uri": "https://localhost:8080/",
          "height": 424
        },
        "outputId": "d6e9f858-b776-44c2-d519-6a24b2b85db5"
      },
      "execution_count": 153,
      "outputs": [
        {
          "output_type": "execute_result",
          "data": {
            "text/plain": [
              "      ESTC  NDEP  RENDA  TIPOR  VBEM  NPARC  VPARC  TEL  IDADE  RESMS  \\\n",
              "2        0     0   1100      0   829      9    125    0     56     48   \n",
              "3        0     0   3000      0   552     12     76    1     31     60   \n",
              "4        1     0   1000      0   809     12    111    0     24      7   \n",
              "8        0     0   1500      0   688      6    148    0     59     48   \n",
              "10       0     0   2000      1   309      6     66    0     29      6   \n",
              "...    ...   ...    ...    ...   ...    ...    ...  ...    ...    ...   \n",
              "1479     3     0   1048      0   552      4    119    0     60     48   \n",
              "1483     0     0   3604      1   651     24     63    0     31      6   \n",
              "1485     0     0   1500      0   536      6    113    0     67     48   \n",
              "1494     0     0   1100      1   412      6     67    0     41      6   \n",
              "1496     1     0   2057      0   301      1    318    0     35     48   \n",
              "\n",
              "      ENTRADA  target  \n",
              "2           0       1  \n",
              "3           0       1  \n",
              "4           0       1  \n",
              "8           0       0  \n",
              "10          0       0  \n",
              "...       ...     ...  \n",
              "1479      119       0  \n",
              "1483        0       0  \n",
              "1485        0       0  \n",
              "1494      100       0  \n",
              "1496        0       1  \n",
              "\n",
              "[510 rows x 12 columns]"
            ],
            "text/html": [
              "\n",
              "  <div id=\"df-ab102810-50c4-465c-a775-797f05030448\">\n",
              "    <div class=\"colab-df-container\">\n",
              "      <div>\n",
              "<style scoped>\n",
              "    .dataframe tbody tr th:only-of-type {\n",
              "        vertical-align: middle;\n",
              "    }\n",
              "\n",
              "    .dataframe tbody tr th {\n",
              "        vertical-align: top;\n",
              "    }\n",
              "\n",
              "    .dataframe thead th {\n",
              "        text-align: right;\n",
              "    }\n",
              "</style>\n",
              "<table border=\"1\" class=\"dataframe\">\n",
              "  <thead>\n",
              "    <tr style=\"text-align: right;\">\n",
              "      <th></th>\n",
              "      <th>ESTC</th>\n",
              "      <th>NDEP</th>\n",
              "      <th>RENDA</th>\n",
              "      <th>TIPOR</th>\n",
              "      <th>VBEM</th>\n",
              "      <th>NPARC</th>\n",
              "      <th>VPARC</th>\n",
              "      <th>TEL</th>\n",
              "      <th>IDADE</th>\n",
              "      <th>RESMS</th>\n",
              "      <th>ENTRADA</th>\n",
              "      <th>target</th>\n",
              "    </tr>\n",
              "  </thead>\n",
              "  <tbody>\n",
              "    <tr>\n",
              "      <th>2</th>\n",
              "      <td>0</td>\n",
              "      <td>0</td>\n",
              "      <td>1100</td>\n",
              "      <td>0</td>\n",
              "      <td>829</td>\n",
              "      <td>9</td>\n",
              "      <td>125</td>\n",
              "      <td>0</td>\n",
              "      <td>56</td>\n",
              "      <td>48</td>\n",
              "      <td>0</td>\n",
              "      <td>1</td>\n",
              "    </tr>\n",
              "    <tr>\n",
              "      <th>3</th>\n",
              "      <td>0</td>\n",
              "      <td>0</td>\n",
              "      <td>3000</td>\n",
              "      <td>0</td>\n",
              "      <td>552</td>\n",
              "      <td>12</td>\n",
              "      <td>76</td>\n",
              "      <td>1</td>\n",
              "      <td>31</td>\n",
              "      <td>60</td>\n",
              "      <td>0</td>\n",
              "      <td>1</td>\n",
              "    </tr>\n",
              "    <tr>\n",
              "      <th>4</th>\n",
              "      <td>1</td>\n",
              "      <td>0</td>\n",
              "      <td>1000</td>\n",
              "      <td>0</td>\n",
              "      <td>809</td>\n",
              "      <td>12</td>\n",
              "      <td>111</td>\n",
              "      <td>0</td>\n",
              "      <td>24</td>\n",
              "      <td>7</td>\n",
              "      <td>0</td>\n",
              "      <td>1</td>\n",
              "    </tr>\n",
              "    <tr>\n",
              "      <th>8</th>\n",
              "      <td>0</td>\n",
              "      <td>0</td>\n",
              "      <td>1500</td>\n",
              "      <td>0</td>\n",
              "      <td>688</td>\n",
              "      <td>6</td>\n",
              "      <td>148</td>\n",
              "      <td>0</td>\n",
              "      <td>59</td>\n",
              "      <td>48</td>\n",
              "      <td>0</td>\n",
              "      <td>0</td>\n",
              "    </tr>\n",
              "    <tr>\n",
              "      <th>10</th>\n",
              "      <td>0</td>\n",
              "      <td>0</td>\n",
              "      <td>2000</td>\n",
              "      <td>1</td>\n",
              "      <td>309</td>\n",
              "      <td>6</td>\n",
              "      <td>66</td>\n",
              "      <td>0</td>\n",
              "      <td>29</td>\n",
              "      <td>6</td>\n",
              "      <td>0</td>\n",
              "      <td>0</td>\n",
              "    </tr>\n",
              "    <tr>\n",
              "      <th>...</th>\n",
              "      <td>...</td>\n",
              "      <td>...</td>\n",
              "      <td>...</td>\n",
              "      <td>...</td>\n",
              "      <td>...</td>\n",
              "      <td>...</td>\n",
              "      <td>...</td>\n",
              "      <td>...</td>\n",
              "      <td>...</td>\n",
              "      <td>...</td>\n",
              "      <td>...</td>\n",
              "      <td>...</td>\n",
              "    </tr>\n",
              "    <tr>\n",
              "      <th>1479</th>\n",
              "      <td>3</td>\n",
              "      <td>0</td>\n",
              "      <td>1048</td>\n",
              "      <td>0</td>\n",
              "      <td>552</td>\n",
              "      <td>4</td>\n",
              "      <td>119</td>\n",
              "      <td>0</td>\n",
              "      <td>60</td>\n",
              "      <td>48</td>\n",
              "      <td>119</td>\n",
              "      <td>0</td>\n",
              "    </tr>\n",
              "    <tr>\n",
              "      <th>1483</th>\n",
              "      <td>0</td>\n",
              "      <td>0</td>\n",
              "      <td>3604</td>\n",
              "      <td>1</td>\n",
              "      <td>651</td>\n",
              "      <td>24</td>\n",
              "      <td>63</td>\n",
              "      <td>0</td>\n",
              "      <td>31</td>\n",
              "      <td>6</td>\n",
              "      <td>0</td>\n",
              "      <td>0</td>\n",
              "    </tr>\n",
              "    <tr>\n",
              "      <th>1485</th>\n",
              "      <td>0</td>\n",
              "      <td>0</td>\n",
              "      <td>1500</td>\n",
              "      <td>0</td>\n",
              "      <td>536</td>\n",
              "      <td>6</td>\n",
              "      <td>113</td>\n",
              "      <td>0</td>\n",
              "      <td>67</td>\n",
              "      <td>48</td>\n",
              "      <td>0</td>\n",
              "      <td>0</td>\n",
              "    </tr>\n",
              "    <tr>\n",
              "      <th>1494</th>\n",
              "      <td>0</td>\n",
              "      <td>0</td>\n",
              "      <td>1100</td>\n",
              "      <td>1</td>\n",
              "      <td>412</td>\n",
              "      <td>6</td>\n",
              "      <td>67</td>\n",
              "      <td>0</td>\n",
              "      <td>41</td>\n",
              "      <td>6</td>\n",
              "      <td>100</td>\n",
              "      <td>0</td>\n",
              "    </tr>\n",
              "    <tr>\n",
              "      <th>1496</th>\n",
              "      <td>1</td>\n",
              "      <td>0</td>\n",
              "      <td>2057</td>\n",
              "      <td>0</td>\n",
              "      <td>301</td>\n",
              "      <td>1</td>\n",
              "      <td>318</td>\n",
              "      <td>0</td>\n",
              "      <td>35</td>\n",
              "      <td>48</td>\n",
              "      <td>0</td>\n",
              "      <td>1</td>\n",
              "    </tr>\n",
              "  </tbody>\n",
              "</table>\n",
              "<p>510 rows × 12 columns</p>\n",
              "</div>\n",
              "      <button class=\"colab-df-convert\" onclick=\"convertToInteractive('df-ab102810-50c4-465c-a775-797f05030448')\"\n",
              "              title=\"Convert this dataframe to an interactive table.\"\n",
              "              style=\"display:none;\">\n",
              "        \n",
              "  <svg xmlns=\"http://www.w3.org/2000/svg\" height=\"24px\"viewBox=\"0 0 24 24\"\n",
              "       width=\"24px\">\n",
              "    <path d=\"M0 0h24v24H0V0z\" fill=\"none\"/>\n",
              "    <path d=\"M18.56 5.44l.94 2.06.94-2.06 2.06-.94-2.06-.94-.94-2.06-.94 2.06-2.06.94zm-11 1L8.5 8.5l.94-2.06 2.06-.94-2.06-.94L8.5 2.5l-.94 2.06-2.06.94zm10 10l.94 2.06.94-2.06 2.06-.94-2.06-.94-.94-2.06-.94 2.06-2.06.94z\"/><path d=\"M17.41 7.96l-1.37-1.37c-.4-.4-.92-.59-1.43-.59-.52 0-1.04.2-1.43.59L10.3 9.45l-7.72 7.72c-.78.78-.78 2.05 0 2.83L4 21.41c.39.39.9.59 1.41.59.51 0 1.02-.2 1.41-.59l7.78-7.78 2.81-2.81c.8-.78.8-2.07 0-2.86zM5.41 20L4 18.59l7.72-7.72 1.47 1.35L5.41 20z\"/>\n",
              "  </svg>\n",
              "      </button>\n",
              "      \n",
              "  <style>\n",
              "    .colab-df-container {\n",
              "      display:flex;\n",
              "      flex-wrap:wrap;\n",
              "      gap: 12px;\n",
              "    }\n",
              "\n",
              "    .colab-df-convert {\n",
              "      background-color: #E8F0FE;\n",
              "      border: none;\n",
              "      border-radius: 50%;\n",
              "      cursor: pointer;\n",
              "      display: none;\n",
              "      fill: #1967D2;\n",
              "      height: 32px;\n",
              "      padding: 0 0 0 0;\n",
              "      width: 32px;\n",
              "    }\n",
              "\n",
              "    .colab-df-convert:hover {\n",
              "      background-color: #E2EBFA;\n",
              "      box-shadow: 0px 1px 2px rgba(60, 64, 67, 0.3), 0px 1px 3px 1px rgba(60, 64, 67, 0.15);\n",
              "      fill: #174EA6;\n",
              "    }\n",
              "\n",
              "    [theme=dark] .colab-df-convert {\n",
              "      background-color: #3B4455;\n",
              "      fill: #D2E3FC;\n",
              "    }\n",
              "\n",
              "    [theme=dark] .colab-df-convert:hover {\n",
              "      background-color: #434B5C;\n",
              "      box-shadow: 0px 1px 3px 1px rgba(0, 0, 0, 0.15);\n",
              "      filter: drop-shadow(0px 1px 2px rgba(0, 0, 0, 0.3));\n",
              "      fill: #FFFFFF;\n",
              "    }\n",
              "  </style>\n",
              "\n",
              "      <script>\n",
              "        const buttonEl =\n",
              "          document.querySelector('#df-ab102810-50c4-465c-a775-797f05030448 button.colab-df-convert');\n",
              "        buttonEl.style.display =\n",
              "          google.colab.kernel.accessAllowed ? 'block' : 'none';\n",
              "\n",
              "        async function convertToInteractive(key) {\n",
              "          const element = document.querySelector('#df-ab102810-50c4-465c-a775-797f05030448');\n",
              "          const dataTable =\n",
              "            await google.colab.kernel.invokeFunction('convertToInteractive',\n",
              "                                                     [key], {});\n",
              "          if (!dataTable) return;\n",
              "\n",
              "          const docLinkHtml = 'Like what you see? Visit the ' +\n",
              "            '<a target=\"_blank\" href=https://colab.research.google.com/notebooks/data_table.ipynb>data table notebook</a>'\n",
              "            + ' to learn more about interactive tables.';\n",
              "          element.innerHTML = '';\n",
              "          dataTable['output_type'] = 'display_data';\n",
              "          await google.colab.output.renderOutput(dataTable, element);\n",
              "          const docLink = document.createElement('div');\n",
              "          docLink.innerHTML = docLinkHtml;\n",
              "          element.appendChild(docLink);\n",
              "        }\n",
              "      </script>\n",
              "    </div>\n",
              "  </div>\n",
              "  "
            ]
          },
          "metadata": {},
          "execution_count": 153
        }
      ]
    },
    {
      "cell_type": "markdown",
      "source": [
        "6)"
      ],
      "metadata": {
        "id": "DbHHpvuYsIYx"
      }
    },
    {
      "cell_type": "code",
      "source": [
        "df.drop(['ESTC','NDEP','TIPOR','TEL','RESMS','ENTRADA','target'],axis=1,inplace=True)\n",
        "df"
      ],
      "metadata": {
        "colab": {
          "base_uri": "https://localhost:8080/",
          "height": 424
        },
        "id": "KGiNeE1ErKAI",
        "outputId": "bf8c593d-7249-4f28-876a-d1e19c3d99e6"
      },
      "execution_count": 154,
      "outputs": [
        {
          "output_type": "execute_result",
          "data": {
            "text/plain": [
              "      RENDA  VBEM  NPARC  VPARC  IDADE\n",
              "0       360   313      9     52     25\n",
              "1       350   468     10     65     33\n",
              "2      1100   829      9    125     56\n",
              "3      3000   552     12     76     31\n",
              "4      1000   809     12    111     24\n",
              "...     ...   ...    ...    ...    ...\n",
              "1495    500   437     12     60     60\n",
              "1496   2057   301      1    318     35\n",
              "1497    570   511     12     71     28\n",
              "1498    360   384     12     52     33\n",
              "1499    501   849     10    117     37\n",
              "\n",
              "[1500 rows x 5 columns]"
            ],
            "text/html": [
              "\n",
              "  <div id=\"df-1074cc4f-5851-41d2-8374-716d1a298df4\">\n",
              "    <div class=\"colab-df-container\">\n",
              "      <div>\n",
              "<style scoped>\n",
              "    .dataframe tbody tr th:only-of-type {\n",
              "        vertical-align: middle;\n",
              "    }\n",
              "\n",
              "    .dataframe tbody tr th {\n",
              "        vertical-align: top;\n",
              "    }\n",
              "\n",
              "    .dataframe thead th {\n",
              "        text-align: right;\n",
              "    }\n",
              "</style>\n",
              "<table border=\"1\" class=\"dataframe\">\n",
              "  <thead>\n",
              "    <tr style=\"text-align: right;\">\n",
              "      <th></th>\n",
              "      <th>RENDA</th>\n",
              "      <th>VBEM</th>\n",
              "      <th>NPARC</th>\n",
              "      <th>VPARC</th>\n",
              "      <th>IDADE</th>\n",
              "    </tr>\n",
              "  </thead>\n",
              "  <tbody>\n",
              "    <tr>\n",
              "      <th>0</th>\n",
              "      <td>360</td>\n",
              "      <td>313</td>\n",
              "      <td>9</td>\n",
              "      <td>52</td>\n",
              "      <td>25</td>\n",
              "    </tr>\n",
              "    <tr>\n",
              "      <th>1</th>\n",
              "      <td>350</td>\n",
              "      <td>468</td>\n",
              "      <td>10</td>\n",
              "      <td>65</td>\n",
              "      <td>33</td>\n",
              "    </tr>\n",
              "    <tr>\n",
              "      <th>2</th>\n",
              "      <td>1100</td>\n",
              "      <td>829</td>\n",
              "      <td>9</td>\n",
              "      <td>125</td>\n",
              "      <td>56</td>\n",
              "    </tr>\n",
              "    <tr>\n",
              "      <th>3</th>\n",
              "      <td>3000</td>\n",
              "      <td>552</td>\n",
              "      <td>12</td>\n",
              "      <td>76</td>\n",
              "      <td>31</td>\n",
              "    </tr>\n",
              "    <tr>\n",
              "      <th>4</th>\n",
              "      <td>1000</td>\n",
              "      <td>809</td>\n",
              "      <td>12</td>\n",
              "      <td>111</td>\n",
              "      <td>24</td>\n",
              "    </tr>\n",
              "    <tr>\n",
              "      <th>...</th>\n",
              "      <td>...</td>\n",
              "      <td>...</td>\n",
              "      <td>...</td>\n",
              "      <td>...</td>\n",
              "      <td>...</td>\n",
              "    </tr>\n",
              "    <tr>\n",
              "      <th>1495</th>\n",
              "      <td>500</td>\n",
              "      <td>437</td>\n",
              "      <td>12</td>\n",
              "      <td>60</td>\n",
              "      <td>60</td>\n",
              "    </tr>\n",
              "    <tr>\n",
              "      <th>1496</th>\n",
              "      <td>2057</td>\n",
              "      <td>301</td>\n",
              "      <td>1</td>\n",
              "      <td>318</td>\n",
              "      <td>35</td>\n",
              "    </tr>\n",
              "    <tr>\n",
              "      <th>1497</th>\n",
              "      <td>570</td>\n",
              "      <td>511</td>\n",
              "      <td>12</td>\n",
              "      <td>71</td>\n",
              "      <td>28</td>\n",
              "    </tr>\n",
              "    <tr>\n",
              "      <th>1498</th>\n",
              "      <td>360</td>\n",
              "      <td>384</td>\n",
              "      <td>12</td>\n",
              "      <td>52</td>\n",
              "      <td>33</td>\n",
              "    </tr>\n",
              "    <tr>\n",
              "      <th>1499</th>\n",
              "      <td>501</td>\n",
              "      <td>849</td>\n",
              "      <td>10</td>\n",
              "      <td>117</td>\n",
              "      <td>37</td>\n",
              "    </tr>\n",
              "  </tbody>\n",
              "</table>\n",
              "<p>1500 rows × 5 columns</p>\n",
              "</div>\n",
              "      <button class=\"colab-df-convert\" onclick=\"convertToInteractive('df-1074cc4f-5851-41d2-8374-716d1a298df4')\"\n",
              "              title=\"Convert this dataframe to an interactive table.\"\n",
              "              style=\"display:none;\">\n",
              "        \n",
              "  <svg xmlns=\"http://www.w3.org/2000/svg\" height=\"24px\"viewBox=\"0 0 24 24\"\n",
              "       width=\"24px\">\n",
              "    <path d=\"M0 0h24v24H0V0z\" fill=\"none\"/>\n",
              "    <path d=\"M18.56 5.44l.94 2.06.94-2.06 2.06-.94-2.06-.94-.94-2.06-.94 2.06-2.06.94zm-11 1L8.5 8.5l.94-2.06 2.06-.94-2.06-.94L8.5 2.5l-.94 2.06-2.06.94zm10 10l.94 2.06.94-2.06 2.06-.94-2.06-.94-.94-2.06-.94 2.06-2.06.94z\"/><path d=\"M17.41 7.96l-1.37-1.37c-.4-.4-.92-.59-1.43-.59-.52 0-1.04.2-1.43.59L10.3 9.45l-7.72 7.72c-.78.78-.78 2.05 0 2.83L4 21.41c.39.39.9.59 1.41.59.51 0 1.02-.2 1.41-.59l7.78-7.78 2.81-2.81c.8-.78.8-2.07 0-2.86zM5.41 20L4 18.59l7.72-7.72 1.47 1.35L5.41 20z\"/>\n",
              "  </svg>\n",
              "      </button>\n",
              "      \n",
              "  <style>\n",
              "    .colab-df-container {\n",
              "      display:flex;\n",
              "      flex-wrap:wrap;\n",
              "      gap: 12px;\n",
              "    }\n",
              "\n",
              "    .colab-df-convert {\n",
              "      background-color: #E8F0FE;\n",
              "      border: none;\n",
              "      border-radius: 50%;\n",
              "      cursor: pointer;\n",
              "      display: none;\n",
              "      fill: #1967D2;\n",
              "      height: 32px;\n",
              "      padding: 0 0 0 0;\n",
              "      width: 32px;\n",
              "    }\n",
              "\n",
              "    .colab-df-convert:hover {\n",
              "      background-color: #E2EBFA;\n",
              "      box-shadow: 0px 1px 2px rgba(60, 64, 67, 0.3), 0px 1px 3px 1px rgba(60, 64, 67, 0.15);\n",
              "      fill: #174EA6;\n",
              "    }\n",
              "\n",
              "    [theme=dark] .colab-df-convert {\n",
              "      background-color: #3B4455;\n",
              "      fill: #D2E3FC;\n",
              "    }\n",
              "\n",
              "    [theme=dark] .colab-df-convert:hover {\n",
              "      background-color: #434B5C;\n",
              "      box-shadow: 0px 1px 3px 1px rgba(0, 0, 0, 0.15);\n",
              "      filter: drop-shadow(0px 1px 2px rgba(0, 0, 0, 0.3));\n",
              "      fill: #FFFFFF;\n",
              "    }\n",
              "  </style>\n",
              "\n",
              "      <script>\n",
              "        const buttonEl =\n",
              "          document.querySelector('#df-1074cc4f-5851-41d2-8374-716d1a298df4 button.colab-df-convert');\n",
              "        buttonEl.style.display =\n",
              "          google.colab.kernel.accessAllowed ? 'block' : 'none';\n",
              "\n",
              "        async function convertToInteractive(key) {\n",
              "          const element = document.querySelector('#df-1074cc4f-5851-41d2-8374-716d1a298df4');\n",
              "          const dataTable =\n",
              "            await google.colab.kernel.invokeFunction('convertToInteractive',\n",
              "                                                     [key], {});\n",
              "          if (!dataTable) return;\n",
              "\n",
              "          const docLinkHtml = 'Like what you see? Visit the ' +\n",
              "            '<a target=\"_blank\" href=https://colab.research.google.com/notebooks/data_table.ipynb>data table notebook</a>'\n",
              "            + ' to learn more about interactive tables.';\n",
              "          element.innerHTML = '';\n",
              "          dataTable['output_type'] = 'display_data';\n",
              "          await google.colab.output.renderOutput(dataTable, element);\n",
              "          const docLink = document.createElement('div');\n",
              "          docLink.innerHTML = docLinkHtml;\n",
              "          element.appendChild(docLink);\n",
              "        }\n",
              "      </script>\n",
              "    </div>\n",
              "  </div>\n",
              "  "
            ]
          },
          "metadata": {},
          "execution_count": 154
        }
      ]
    },
    {
      "cell_type": "markdown",
      "source": [
        "7)"
      ],
      "metadata": {
        "id": "aqYNZdRUz0Cx"
      }
    },
    {
      "cell_type": "code",
      "source": [
        "import random\n",
        "\n",
        "y = random.randint(0,1)\n",
        "print(y) #valor aleatorio escolhido\n",
        "for elemento in ['Renda - Idade']:\n",
        "  elemento = df['Renda - Idade'] = ((df['RENDA'] - df['IDADE']) * y) \n",
        "display(df)"
      ],
      "metadata": {
        "colab": {
          "base_uri": "https://localhost:8080/",
          "height": 441
        },
        "id": "pUBCbSEvs7bJ",
        "outputId": "4fb264ae-9e9a-4fd9-946a-2d51280be5f5"
      },
      "execution_count": 191,
      "outputs": [
        {
          "output_type": "stream",
          "name": "stdout",
          "text": [
            "1\n"
          ]
        },
        {
          "output_type": "display_data",
          "data": {
            "text/plain": [
              "      RENDA  VBEM  NPARC  VPARC  IDADE  Renda - Idade\n",
              "0       360   313      9     52     25            335\n",
              "1       350   468     10     65     33            317\n",
              "2      1100   829      9    125     56           1044\n",
              "3      3000   552     12     76     31           2969\n",
              "4      1000   809     12    111     24            976\n",
              "...     ...   ...    ...    ...    ...            ...\n",
              "1495    500   437     12     60     60            440\n",
              "1496   2057   301      1    318     35           2022\n",
              "1497    570   511     12     71     28            542\n",
              "1498    360   384     12     52     33            327\n",
              "1499    501   849     10    117     37            464\n",
              "\n",
              "[1500 rows x 6 columns]"
            ],
            "text/html": [
              "\n",
              "  <div id=\"df-760b36c6-fe0c-4660-86cb-e911254504ab\">\n",
              "    <div class=\"colab-df-container\">\n",
              "      <div>\n",
              "<style scoped>\n",
              "    .dataframe tbody tr th:only-of-type {\n",
              "        vertical-align: middle;\n",
              "    }\n",
              "\n",
              "    .dataframe tbody tr th {\n",
              "        vertical-align: top;\n",
              "    }\n",
              "\n",
              "    .dataframe thead th {\n",
              "        text-align: right;\n",
              "    }\n",
              "</style>\n",
              "<table border=\"1\" class=\"dataframe\">\n",
              "  <thead>\n",
              "    <tr style=\"text-align: right;\">\n",
              "      <th></th>\n",
              "      <th>RENDA</th>\n",
              "      <th>VBEM</th>\n",
              "      <th>NPARC</th>\n",
              "      <th>VPARC</th>\n",
              "      <th>IDADE</th>\n",
              "      <th>Renda - Idade</th>\n",
              "    </tr>\n",
              "  </thead>\n",
              "  <tbody>\n",
              "    <tr>\n",
              "      <th>0</th>\n",
              "      <td>360</td>\n",
              "      <td>313</td>\n",
              "      <td>9</td>\n",
              "      <td>52</td>\n",
              "      <td>25</td>\n",
              "      <td>335</td>\n",
              "    </tr>\n",
              "    <tr>\n",
              "      <th>1</th>\n",
              "      <td>350</td>\n",
              "      <td>468</td>\n",
              "      <td>10</td>\n",
              "      <td>65</td>\n",
              "      <td>33</td>\n",
              "      <td>317</td>\n",
              "    </tr>\n",
              "    <tr>\n",
              "      <th>2</th>\n",
              "      <td>1100</td>\n",
              "      <td>829</td>\n",
              "      <td>9</td>\n",
              "      <td>125</td>\n",
              "      <td>56</td>\n",
              "      <td>1044</td>\n",
              "    </tr>\n",
              "    <tr>\n",
              "      <th>3</th>\n",
              "      <td>3000</td>\n",
              "      <td>552</td>\n",
              "      <td>12</td>\n",
              "      <td>76</td>\n",
              "      <td>31</td>\n",
              "      <td>2969</td>\n",
              "    </tr>\n",
              "    <tr>\n",
              "      <th>4</th>\n",
              "      <td>1000</td>\n",
              "      <td>809</td>\n",
              "      <td>12</td>\n",
              "      <td>111</td>\n",
              "      <td>24</td>\n",
              "      <td>976</td>\n",
              "    </tr>\n",
              "    <tr>\n",
              "      <th>...</th>\n",
              "      <td>...</td>\n",
              "      <td>...</td>\n",
              "      <td>...</td>\n",
              "      <td>...</td>\n",
              "      <td>...</td>\n",
              "      <td>...</td>\n",
              "    </tr>\n",
              "    <tr>\n",
              "      <th>1495</th>\n",
              "      <td>500</td>\n",
              "      <td>437</td>\n",
              "      <td>12</td>\n",
              "      <td>60</td>\n",
              "      <td>60</td>\n",
              "      <td>440</td>\n",
              "    </tr>\n",
              "    <tr>\n",
              "      <th>1496</th>\n",
              "      <td>2057</td>\n",
              "      <td>301</td>\n",
              "      <td>1</td>\n",
              "      <td>318</td>\n",
              "      <td>35</td>\n",
              "      <td>2022</td>\n",
              "    </tr>\n",
              "    <tr>\n",
              "      <th>1497</th>\n",
              "      <td>570</td>\n",
              "      <td>511</td>\n",
              "      <td>12</td>\n",
              "      <td>71</td>\n",
              "      <td>28</td>\n",
              "      <td>542</td>\n",
              "    </tr>\n",
              "    <tr>\n",
              "      <th>1498</th>\n",
              "      <td>360</td>\n",
              "      <td>384</td>\n",
              "      <td>12</td>\n",
              "      <td>52</td>\n",
              "      <td>33</td>\n",
              "      <td>327</td>\n",
              "    </tr>\n",
              "    <tr>\n",
              "      <th>1499</th>\n",
              "      <td>501</td>\n",
              "      <td>849</td>\n",
              "      <td>10</td>\n",
              "      <td>117</td>\n",
              "      <td>37</td>\n",
              "      <td>464</td>\n",
              "    </tr>\n",
              "  </tbody>\n",
              "</table>\n",
              "<p>1500 rows × 6 columns</p>\n",
              "</div>\n",
              "      <button class=\"colab-df-convert\" onclick=\"convertToInteractive('df-760b36c6-fe0c-4660-86cb-e911254504ab')\"\n",
              "              title=\"Convert this dataframe to an interactive table.\"\n",
              "              style=\"display:none;\">\n",
              "        \n",
              "  <svg xmlns=\"http://www.w3.org/2000/svg\" height=\"24px\"viewBox=\"0 0 24 24\"\n",
              "       width=\"24px\">\n",
              "    <path d=\"M0 0h24v24H0V0z\" fill=\"none\"/>\n",
              "    <path d=\"M18.56 5.44l.94 2.06.94-2.06 2.06-.94-2.06-.94-.94-2.06-.94 2.06-2.06.94zm-11 1L8.5 8.5l.94-2.06 2.06-.94-2.06-.94L8.5 2.5l-.94 2.06-2.06.94zm10 10l.94 2.06.94-2.06 2.06-.94-2.06-.94-.94-2.06-.94 2.06-2.06.94z\"/><path d=\"M17.41 7.96l-1.37-1.37c-.4-.4-.92-.59-1.43-.59-.52 0-1.04.2-1.43.59L10.3 9.45l-7.72 7.72c-.78.78-.78 2.05 0 2.83L4 21.41c.39.39.9.59 1.41.59.51 0 1.02-.2 1.41-.59l7.78-7.78 2.81-2.81c.8-.78.8-2.07 0-2.86zM5.41 20L4 18.59l7.72-7.72 1.47 1.35L5.41 20z\"/>\n",
              "  </svg>\n",
              "      </button>\n",
              "      \n",
              "  <style>\n",
              "    .colab-df-container {\n",
              "      display:flex;\n",
              "      flex-wrap:wrap;\n",
              "      gap: 12px;\n",
              "    }\n",
              "\n",
              "    .colab-df-convert {\n",
              "      background-color: #E8F0FE;\n",
              "      border: none;\n",
              "      border-radius: 50%;\n",
              "      cursor: pointer;\n",
              "      display: none;\n",
              "      fill: #1967D2;\n",
              "      height: 32px;\n",
              "      padding: 0 0 0 0;\n",
              "      width: 32px;\n",
              "    }\n",
              "\n",
              "    .colab-df-convert:hover {\n",
              "      background-color: #E2EBFA;\n",
              "      box-shadow: 0px 1px 2px rgba(60, 64, 67, 0.3), 0px 1px 3px 1px rgba(60, 64, 67, 0.15);\n",
              "      fill: #174EA6;\n",
              "    }\n",
              "\n",
              "    [theme=dark] .colab-df-convert {\n",
              "      background-color: #3B4455;\n",
              "      fill: #D2E3FC;\n",
              "    }\n",
              "\n",
              "    [theme=dark] .colab-df-convert:hover {\n",
              "      background-color: #434B5C;\n",
              "      box-shadow: 0px 1px 3px 1px rgba(0, 0, 0, 0.15);\n",
              "      filter: drop-shadow(0px 1px 2px rgba(0, 0, 0, 0.3));\n",
              "      fill: #FFFFFF;\n",
              "    }\n",
              "  </style>\n",
              "\n",
              "      <script>\n",
              "        const buttonEl =\n",
              "          document.querySelector('#df-760b36c6-fe0c-4660-86cb-e911254504ab button.colab-df-convert');\n",
              "        buttonEl.style.display =\n",
              "          google.colab.kernel.accessAllowed ? 'block' : 'none';\n",
              "\n",
              "        async function convertToInteractive(key) {\n",
              "          const element = document.querySelector('#df-760b36c6-fe0c-4660-86cb-e911254504ab');\n",
              "          const dataTable =\n",
              "            await google.colab.kernel.invokeFunction('convertToInteractive',\n",
              "                                                     [key], {});\n",
              "          if (!dataTable) return;\n",
              "\n",
              "          const docLinkHtml = 'Like what you see? Visit the ' +\n",
              "            '<a target=\"_blank\" href=https://colab.research.google.com/notebooks/data_table.ipynb>data table notebook</a>'\n",
              "            + ' to learn more about interactive tables.';\n",
              "          element.innerHTML = '';\n",
              "          dataTable['output_type'] = 'display_data';\n",
              "          await google.colab.output.renderOutput(dataTable, element);\n",
              "          const docLink = document.createElement('div');\n",
              "          docLink.innerHTML = docLinkHtml;\n",
              "          element.appendChild(docLink);\n",
              "        }\n",
              "      </script>\n",
              "    </div>\n",
              "  </div>\n",
              "  "
            ]
          },
          "metadata": {}
        }
      ]
    },
    {
      "cell_type": "markdown",
      "source": [
        "8)"
      ],
      "metadata": {
        "id": "MyoeBxqCz33r"
      }
    },
    {
      "cell_type": "code",
      "source": [
        "\n",
        "df_shuffled=df.sample(frac=1).reset_index(drop=True)\n",
        "print(df_shuffled)\n"
      ],
      "metadata": {
        "colab": {
          "base_uri": "https://localhost:8080/"
        },
        "id": "cYxeAj8jz2gp",
        "outputId": "231cc2f0-05f2-41da-f612-78357e85642e"
      },
      "execution_count": 215,
      "outputs": [
        {
          "output_type": "stream",
          "name": "stdout",
          "text": [
            "      RENDA  VBEM  NPARC  VPARC  IDADE  Renda - Idade\n",
            "0       300   359      9     59     39            261\n",
            "1       715   552      4    119     59            656\n",
            "2       800   638     12     79     33            767\n",
            "3       600   460      6    103     23            577\n",
            "4       498   344     10     53     22            476\n",
            "...     ...   ...    ...    ...    ...            ...\n",
            "1495    617   464      3    116     63            554\n",
            "1496   1500   849     10    117     38           1462\n",
            "1497    580   460     12     62     31            549\n",
            "1498   2000   984     12     83     37           1963\n",
            "1499   5000   402      1    424     34           4966\n",
            "\n",
            "[1500 rows x 6 columns]\n"
          ]
        }
      ]
    },
    {
      "cell_type": "markdown",
      "source": [
        "10) como só tem colunas numéricas vou usar 2 numéricas"
      ],
      "metadata": {
        "id": "y0VZGmWM38ma"
      }
    },
    {
      "cell_type": "code",
      "source": [
        "arruma = df.groupby(['RENDA','IDADE']).count()\n",
        "print(arruma)\n"
      ],
      "metadata": {
        "id": "lqSZ1Cq637UR"
      },
      "execution_count": null,
      "outputs": []
    },
    {
      "cell_type": "markdown",
      "source": [
        "12)"
      ],
      "metadata": {
        "id": "A8PYSzRR4fxm"
      }
    },
    {
      "cell_type": "code",
      "source": [
        "from google.colab import drive\n",
        "drive.mount(\"/drive\", force_remount=True)\n",
        "df.to_csv('/drive/MyDrive/Trabalho 3 ENG1111/nvarqclass_analise_credito.csv')"
      ],
      "metadata": {
        "colab": {
          "base_uri": "https://localhost:8080/"
        },
        "id": "E-yTtKJh4OEv",
        "outputId": "b1e77c95-7a75-4dfb-8392-c57bead43f1a"
      },
      "execution_count": 221,
      "outputs": [
        {
          "output_type": "stream",
          "name": "stdout",
          "text": [
            "Mounted at /drive\n"
          ]
        }
      ]
    },
    {
      "cell_type": "markdown",
      "source": [
        "13)"
      ],
      "metadata": {
        "id": "_YO3PouN5qaY"
      }
    },
    {
      "cell_type": "code",
      "source": [
        "from google.colab import drive\n",
        "drive.mount(\"/drive\", force_remount=True)\n",
        "df.to_json('/drive/MyDrive/Trabalho 3 ENG1111/nvarqclass_analise_credito.json')"
      ],
      "metadata": {
        "colab": {
          "base_uri": "https://localhost:8080/"
        },
        "id": "KwwUf0R85rP_",
        "outputId": "491307dc-0dbc-4ea4-a805-cea3edc9c5b7"
      },
      "execution_count": 222,
      "outputs": [
        {
          "output_type": "stream",
          "name": "stdout",
          "text": [
            "Mounted at /drive\n"
          ]
        }
      ]
    },
    {
      "cell_type": "markdown",
      "source": [
        "14) https://github.com/pedroomaia/Lista3.git"
      ],
      "metadata": {
        "id": "mHSsIyAd6Tlk"
      }
    }
  ]
}